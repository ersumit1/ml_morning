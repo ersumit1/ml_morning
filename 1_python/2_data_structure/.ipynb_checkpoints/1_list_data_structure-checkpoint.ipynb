{
 "cells": [
  {
   "cell_type": "markdown",
   "id": "781e3322",
   "metadata": {},
   "source": [
    "# Data Structure in Python"
   ]
  },
  {
   "cell_type": "raw",
   "id": "df51fdf3",
   "metadata": {},
   "source": [
    "to store multiple elements under a single variable.\n",
    "    List\n",
    "    Tuple\n",
    "    Set\n",
    "    Dictionary\n",
    "Points:\n",
    "    - mutuable\n",
    "    - heterogeneous / homogeneous\n",
    "    - duplicates are allowed\n",
    "    - insertion order preserved?\n",
    "    - indexing\n",
    "    - slicing\n",
    " create \n",
    "     - Empty\n",
    "     - single element\n",
    "     - multiple elements"
   ]
  },
  {
   "cell_type": "raw",
   "id": "e0c6188c",
   "metadata": {},
   "source": [
    "List in Python\n",
    "    - mutuble : yes\n",
    "    - heterogeneous / homogeneous : heterogeneous\n",
    "    - duplicates are allowed : allowed\n",
    "    - insertion order preserved? : preserved\n",
    "    - indexing : positive & negative\n",
    "    - slicing : positive & negative\n",
    "    - create \n",
    "         - Empty \n",
    "            l1 = []\n",
    "            l2 = list()\n",
    "         - single element\n",
    "            l3 = [10]\n",
    "         - multiple elements\n",
    "            l4 = [1,2,'welcome']\n",
    "      NOTE : list() function is used to create an empty list and also used to convert sequencial data type into list."
   ]
  },
  {
   "cell_type": "code",
   "execution_count": 2,
   "id": "27df01f0",
   "metadata": {},
   "outputs": [
    {
     "name": "stdout",
     "output_type": "stream",
     "text": [
      "[] <class 'list'>\n",
      "[] <class 'list'>\n"
     ]
    }
   ],
   "source": [
    "# create a list\n",
    "# Empty list\n",
    "l1 = []\n",
    "print(l1,type(l1))\n",
    "\n",
    "l2 = list()\n",
    "print(l2,type(l2))"
   ]
  },
  {
   "cell_type": "code",
   "execution_count": 8,
   "id": "293f274e",
   "metadata": {},
   "outputs": [
    {
     "name": "stdout",
     "output_type": "stream",
     "text": [
      "[10] <class 'list'>\n",
      "['w', 'e', 'l', 'c', 'o', 'm', 'e'] <class 'list'>\n"
     ]
    }
   ],
   "source": [
    "l3 = [10]\n",
    "print(l3,type(l3))\n",
    "\n",
    "#l4 = list(10,20,30)\n",
    "l4 = list('welcome')\n",
    "print(l4,type(l4))"
   ]
  },
  {
   "cell_type": "code",
   "execution_count": 10,
   "id": "5d3acc6d",
   "metadata": {},
   "outputs": [
    {
     "name": "stdout",
     "output_type": "stream",
     "text": [
      "[10, 20, 20, 'welcome', 2.5, [10, 22], 90] <class 'list'>\n"
     ]
    }
   ],
   "source": [
    "l5 = [10,20,20,'welcome',2.5,[10,22],90] # supports heterogeneous & duplicates & insertion order preserved\n",
    "print(l5,type(l5))"
   ]
  },
  {
   "cell_type": "code",
   "execution_count": 16,
   "id": "2be976d7",
   "metadata": {},
   "outputs": [
    {
     "name": "stdout",
     "output_type": "stream",
     "text": [
      "[10, 20, 30, 40, 50, 60, 70, 80, 90, 100]\n",
      "10\n",
      "30\n",
      "80\n",
      "100\n"
     ]
    }
   ],
   "source": [
    "l6 = list(range(10,101,10))\n",
    "print(l6)\n",
    "\n",
    "# postive indexing\n",
    "# get the data from list\n",
    "\n",
    "print(l6[0])\n",
    "print(l6[2])\n",
    "print(l6[7])\n",
    "print(l6[9])\n",
    "#print(l6[10])  #<== IndexError\n"
   ]
  },
  {
   "cell_type": "code",
   "execution_count": 15,
   "id": "229cce11",
   "metadata": {},
   "outputs": [
    {
     "name": "stdout",
     "output_type": "stream",
     "text": [
      "100\n",
      "90\n",
      "40\n",
      "20\n",
      "10\n"
     ]
    }
   ],
   "source": [
    "# negative indexing\n",
    "# get the data from list\n",
    "\n",
    "print(l6[-1])\n",
    "print(l6[-2])\n",
    "print(l6[-7])\n",
    "print(l6[-9])\n",
    "print(l6[-10])\n",
    "# print(l6[-11]) # <== IndexError"
   ]
  },
  {
   "cell_type": "code",
   "execution_count": 21,
   "id": "3e68944d",
   "metadata": {},
   "outputs": [
    {
     "name": "stdout",
     "output_type": "stream",
     "text": [
      "[10, 20, 30, 40, 50, 60, 70, 80, 90, 100]\n",
      "[99, 20, 30, 40, 50, 60, 70, 80, 90, 100]\n",
      "[99, 20, 30, 40, 50, 60, 70, 80, 90, 999]\n"
     ]
    }
   ],
   "source": [
    "#update data using indexing : mutuable\n",
    "l6 = list(range(10,101,10))\n",
    "print(l6)\n",
    "l6[0] = 99\n",
    "print(l6)\n",
    "l6[-1] = 999\n",
    "print(l6)"
   ]
  },
  {
   "cell_type": "code",
   "execution_count": 29,
   "id": "eaf03656",
   "metadata": {},
   "outputs": [
    {
     "name": "stdout",
     "output_type": "stream",
     "text": [
      "[10, 20, 30, 40, 50, 60, 70, 80, 90, 100]\n",
      "[30, 40, 50, 60]\n",
      "[30, 40, 50, 60, 70, 80, 90, 100]\n",
      "[10, 20, 30, 40, 50, 60]\n",
      "[10, 20, 30, 40, 50, 60, 70, 80, 90, 100]\n",
      "[10, 30, 50, 70, 90]\n",
      "[100, 90, 80, 70, 60, 50, 40, 30, 20, 10]\n",
      "[100, 80, 60, 40, 20]\n",
      "[40, 30, 20, 10]\n",
      "[]\n",
      "[]\n",
      "[]\n",
      "[30]\n"
     ]
    }
   ],
   "source": [
    "# slicing : read the data\n",
    "l6 = list(range(10,101,10))\n",
    "print(l6)\n",
    "\n",
    "\n",
    "print(l6[2:6])  # 6-2 = 4\n",
    "print(l6[2:])\n",
    "print(l6[:6])\n",
    "print(l6[:])\n",
    "print(l6[::2])\n",
    "print(l6[::-1])\n",
    "print(l6[::-2])\n",
    "print(l6[3::-1])\n",
    "print(l6[5:9:-1])\n",
    "print(l6[3:2])\n",
    "print(l6[2:2])\n",
    "print(l6[2:3])"
   ]
  },
  {
   "cell_type": "code",
   "execution_count": 34,
   "id": "6da2cdcb",
   "metadata": {},
   "outputs": [
    {
     "name": "stdout",
     "output_type": "stream",
     "text": [
      "[10, 20, 30, 40, 50, 60, 70, 80, 90, 100]\n",
      "[]\n",
      "[70, 80, 90]\n",
      "[30, 40, 50, 60, 70]\n"
     ]
    }
   ],
   "source": [
    "# negative slicing : read the data\n",
    "print(l6)\n",
    "print(l6[-1:-4])\n",
    "print(l6[-4:-1])\n",
    "print(l6[2:-3])"
   ]
  },
  {
   "cell_type": "code",
   "execution_count": 38,
   "id": "c525f381",
   "metadata": {},
   "outputs": [
    {
     "name": "stdout",
     "output_type": "stream",
     "text": [
      "[10, 20, 30, 40, 50, 60, 70, 80, 90, 100]\n",
      "[10, 20, 99, 999, 9999, 60, 70, 80, 90, 100]\n",
      "[10, 20, 101, 60, 70, 80, 90, 100]\n",
      "[10, 20, 901, 902, 903, 904, 905, 60, 70, 80, 90, 100]\n"
     ]
    }
   ],
   "source": [
    "# Positive slicing : update data\n",
    "l6 = list(range(10,101,10))\n",
    "print(l6)\n",
    "\n",
    "l6[2:5] = [99,999,9999]\n",
    "print(l6)\n",
    "\n",
    "l6[2:5] = [101]\n",
    "print(l6)\n",
    "\n",
    "l6[2:3] = [901,902,903,904,905]\n",
    "print(l6)"
   ]
  },
  {
   "cell_type": "code",
   "execution_count": 43,
   "id": "522aea58",
   "metadata": {},
   "outputs": [
    {
     "name": "stdout",
     "output_type": "stream",
     "text": [
      "[10, 20, 30, 40, 50, 60, 70, 80, 90, 100]\n",
      "[0, 20, 0, 40, 0, 60, 0, 80, 0, 100]\n",
      "[0]\n"
     ]
    }
   ],
   "source": [
    "l6 = list(range(10,101,10))\n",
    "print(l6)\n",
    "\n",
    "l6[::2] = [0,0,0,0,0]\n",
    "#l6[::2] = [0] # error\n",
    "print(l6)\n",
    "\n",
    "l6 = list(range(10,101,10))\n",
    "l6[:] = [0]\n",
    "print(l6)"
   ]
  },
  {
   "cell_type": "code",
   "execution_count": 44,
   "id": "8e43ae73",
   "metadata": {},
   "outputs": [
    {
     "name": "stdout",
     "output_type": "stream",
     "text": [
      "[10, 20, 30, 40, 50, 60, 70, 80, 90, 100]\n",
      "[10, 20, 30, 40, 50, 60, 70, 80, 90, 100]\n"
     ]
    }
   ],
   "source": [
    "l6 = list(range(10,101,10))\n",
    "print(l6)\n",
    "print(l6[::-1][::-1])\n"
   ]
  }
 ],
 "metadata": {
  "kernelspec": {
   "display_name": "Python 3 (ipykernel)",
   "language": "python",
   "name": "python3"
  },
  "language_info": {
   "codemirror_mode": {
    "name": "ipython",
    "version": 3
   },
   "file_extension": ".py",
   "mimetype": "text/x-python",
   "name": "python",
   "nbconvert_exporter": "python",
   "pygments_lexer": "ipython3",
   "version": "3.10.6"
  }
 },
 "nbformat": 4,
 "nbformat_minor": 5
}
