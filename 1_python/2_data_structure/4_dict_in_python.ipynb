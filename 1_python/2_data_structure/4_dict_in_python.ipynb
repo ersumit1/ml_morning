{
 "cells": [
  {
   "cell_type": "code",
   "execution_count": null,
   "id": "90329c8d",
   "metadata": {},
   "outputs": [],
   "source": [
    "dict in Python\n",
    "    - use to store data in key-value pair\n",
    "    - mutuble : yes\n",
    "    - heterogeneous / homogeneous \n",
    "        key : heterogeneous\n",
    "        value : heterogeneous\n",
    "    - duplicates are allowed : \n",
    "        key : no, will consider the latest value\n",
    "        value : allows\n",
    "    - insertion order preserved? : \n",
    "        key : preserved\n",
    "        value : preserved\n",
    "    - create \n",
    "         - Empty \n",
    "            d = {}\n",
    "            d = dict()\n",
    "         - single element\n",
    "            d = {'a':10}\n",
    "         - multiple elements\n",
    "            d = {'a':1,20:2,3:'welcome'}\n",
    "      NOTE : set() function is used to create an empty set and also used to convert sequencial data type into set."
   ]
  },
  {
   "cell_type": "code",
   "execution_count": 4,
   "id": "4d681fb8",
   "metadata": {},
   "outputs": [
    {
     "name": "stdout",
     "output_type": "stream",
     "text": [
      "{'a': 1, 20: 2, 3: 'bye'} <class 'dict'>\n",
      "dict_keys(['a', 20, 3])\n",
      "dict_values([1, 2, 'bye'])\n"
     ]
    }
   ],
   "source": [
    "#d = {'a':1,20:2,3:'welcome'}\n",
    "#d = {'a':1,20:2,3:'welcome',4:'welcome'}\n",
    "d = {'a':1,20:2,3:'welcome',3:'bye'}\n",
    "print(d,type(d))\n",
    "print(d.keys())\n",
    "print(d.values())"
   ]
  },
  {
   "cell_type": "code",
   "execution_count": 6,
   "id": "a2ce9c49",
   "metadata": {},
   "outputs": [
    {
     "name": "stdout",
     "output_type": "stream",
     "text": [
      "bye\n",
      "welcome\n",
      "1\n"
     ]
    }
   ],
   "source": [
    "d = {'a':1,20:2,3:'welcome',3:'bye',4:'welcome'}\n",
    "print(d[3])\n",
    "print(d[4])\n",
    "print(d['a'])"
   ]
  }
 ],
 "metadata": {
  "kernelspec": {
   "display_name": "Python 3 (ipykernel)",
   "language": "python",
   "name": "python3"
  },
  "language_info": {
   "codemirror_mode": {
    "name": "ipython",
    "version": 3
   },
   "file_extension": ".py",
   "mimetype": "text/x-python",
   "name": "python",
   "nbconvert_exporter": "python",
   "pygments_lexer": "ipython3",
   "version": "3.10.6"
  }
 },
 "nbformat": 4,
 "nbformat_minor": 5
}
