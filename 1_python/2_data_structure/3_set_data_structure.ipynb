{
 "cells": [
  {
   "cell_type": "raw",
   "id": "e0c6188c",
   "metadata": {},
   "source": [
    "set in Python\n",
    "    - mutuble : yes\n",
    "    - heterogeneous / homogeneous : heterogeneous\n",
    "    - duplicates are allowed : not allowed\n",
    "    - insertion order preserved? : not preserved\n",
    "    - indexing : not supported\n",
    "    - slicing : not supported\n",
    "    - create \n",
    "         - Empty \n",
    "            s = set()\n",
    "         - single element\n",
    "            s = {10}\n",
    "         - multiple elements\n",
    "            s = {1,2,'welcome'}\n",
    "      NOTE : set() function is used to create an empty set and also used to convert sequencial data type into set."
   ]
  },
  {
   "cell_type": "code",
   "execution_count": null,
   "id": "71e80a80",
   "metadata": {},
   "outputs": [],
   "source": []
  },
  {
   "cell_type": "code",
   "execution_count": 2,
   "id": "27df01f0",
   "metadata": {},
   "outputs": [
    {
     "name": "stdout",
     "output_type": "stream",
     "text": [
      "set() <class 'set'>\n",
      "{} <class 'dict'>\n"
     ]
    }
   ],
   "source": [
    "# create a set\n",
    "# Empty set\n",
    "l1 = set()\n",
    "print(l1,type(l1))\n",
    "\n",
    "l1 = {}\n",
    "print(l1,type(l1))\n"
   ]
  },
  {
   "cell_type": "code",
   "execution_count": 3,
   "id": "293f274e",
   "metadata": {},
   "outputs": [
    {
     "name": "stdout",
     "output_type": "stream",
     "text": [
      "{10} <class 'set'>\n",
      "{'e', 'l', 'o', 'w', 'c', 'm'} <class 'set'>\n"
     ]
    }
   ],
   "source": [
    "l3 = {10}\n",
    "print(l3,type(l3))\n",
    "\n",
    "l4 = set('welcome')\n",
    "print(l4,type(l4))"
   ]
  },
  {
   "cell_type": "code",
   "execution_count": 8,
   "id": "5d3acc6d",
   "metadata": {},
   "outputs": [
    {
     "name": "stdout",
     "output_type": "stream",
     "text": [
      "{'welcome', 2.5, 10, 20, (10, 22), 90} <class 'set'>\n",
      "{2.5, 90, 10, 20, ('w', 'e', 'l', 'c', 'o', 'm', 'e'), (10, 22)} <class 'set'>\n"
     ]
    }
   ],
   "source": [
    "l5 = {10,20,20,'welcome',2.5,(10,22),90}\n",
    "print(l5,type(l5))\n",
    "l5 = {10,20,20,tuple('welcome'),2.5,(10,22),90}\n",
    "print(l5,type(l5))"
   ]
  },
  {
   "cell_type": "code",
   "execution_count": 10,
   "id": "2be976d7",
   "metadata": {},
   "outputs": [
    {
     "name": "stdout",
     "output_type": "stream",
     "text": [
      "{100, 70, 40, 10, 80, 50, 20, 90, 60, 30}\n"
     ]
    }
   ],
   "source": [
    "l6 = set(range(10,101,10))\n",
    "print(l6)"
   ]
  },
  {
   "cell_type": "code",
   "execution_count": 13,
   "id": "8971ad38",
   "metadata": {},
   "outputs": [
    {
     "name": "stdout",
     "output_type": "stream",
     "text": [
      "add\n",
      "clear\n",
      "copy\n",
      "difference\n",
      "difference_update\n",
      "discard\n",
      "intersection\n",
      "intersection_update\n",
      "isdisjoint\n",
      "issubset\n",
      "issuperset\n",
      "pop\n",
      "remove\n",
      "symmetric_difference\n",
      "symmetric_difference_update\n",
      "union\n",
      "update\n"
     ]
    }
   ],
   "source": [
    "s = set()\n",
    "#print(dir(s))\n",
    "for name in dir(s):\n",
    "    if (name.startswith(\"__\") and name.endswith(\"__\")) == False:\n",
    "        print(name)"
   ]
  },
  {
   "cell_type": "code",
   "execution_count": 28,
   "id": "f2c6172a",
   "metadata": {},
   "outputs": [
    {
     "name": "stdout",
     "output_type": "stream",
     "text": [
      "{100, 101, 20, 10, 30}\n",
      "{99, 100, 101, 20, 10, 30}\n",
      "{99, 100, 101, 10, 30}\n",
      "{99, 100, 101, 10, 30}\n",
      "{99, 100, 101, 10}\n",
      "99\n",
      "{100, 101, 10}\n",
      "100\n",
      "{101, 10}\n",
      "101\n",
      "{10}\n"
     ]
    }
   ],
   "source": [
    "s = {10,20,30,101,100}\n",
    "print(s)\n",
    "s.add(99)\n",
    "print(s)\n",
    "#help(s.discard)\n",
    "s.discard(20)\n",
    "print(s)\n",
    "s.discard(20)\n",
    "print(s)\n",
    "\n",
    "#help(s.remove)\n",
    "s.remove(30)\n",
    "print(s)\n",
    "#s.remove(30)\n",
    "#print(s)\n",
    "\n",
    "#help(s.pop)\n",
    "print(s.pop())\n",
    "print(s)\n",
    "print(s.pop())\n",
    "print(s)\n",
    "print(s.pop())\n",
    "print(s)"
   ]
  },
  {
   "cell_type": "code",
   "execution_count": 30,
   "id": "326b375c",
   "metadata": {},
   "outputs": [
    {
     "name": "stdout",
     "output_type": "stream",
     "text": [
      "{1, 2, 3, 4, 5, 40, 10, 20, 30}\n",
      "Help on built-in function update:\n",
      "\n",
      "update(...) method of builtins.set instance\n",
      "    Update a set with the union of itself and others.\n",
      "\n"
     ]
    }
   ],
   "source": [
    "s1 = {1,2,3,4,5}\n",
    "s2 = {10,20,30,40,5}\n",
    "\n",
    "s3 = s1.union(s2)\n",
    "print(s3)\n",
    "\n",
    "\n",
    "help(s1.update)"
   ]
  },
  {
   "cell_type": "code",
   "execution_count": 33,
   "id": "bc2d75ee",
   "metadata": {},
   "outputs": [
    {
     "name": "stdout",
     "output_type": "stream",
     "text": [
      "{50, 20, 40, 10, 30}\n",
      "{50, 20, 40, 10, 30, 200}\n"
     ]
    }
   ],
   "source": [
    "s = {10,20,30,40,50}\n",
    "print(s)\n",
    "#s.update(200)\n",
    "s.update({200})\n",
    "print(s)"
   ]
  },
  {
   "cell_type": "code",
   "execution_count": 34,
   "id": "729dcbb4",
   "metadata": {},
   "outputs": [
    {
     "name": "stdout",
     "output_type": "stream",
     "text": [
      "{1, 2, 3, 4, 5, 40, 10, 20, 30}\n",
      "{20, 5, 40, 10, 30}\n"
     ]
    }
   ],
   "source": [
    "s1 = {1,2,3,4,5}\n",
    "s2 = {10,20,30,40,5}\n",
    "\n",
    "s1.update(s2)\n",
    "print(s1)\n",
    "print(s2)"
   ]
  }
 ],
 "metadata": {
  "kernelspec": {
   "display_name": "Python 3 (ipykernel)",
   "language": "python",
   "name": "python3"
  },
  "language_info": {
   "codemirror_mode": {
    "name": "ipython",
    "version": 3
   },
   "file_extension": ".py",
   "mimetype": "text/x-python",
   "name": "python",
   "nbconvert_exporter": "python",
   "pygments_lexer": "ipython3",
   "version": "3.10.6"
  }
 },
 "nbformat": 4,
 "nbformat_minor": 5
}
